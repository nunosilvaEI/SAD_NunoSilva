{
  "nbformat": 4,
  "nbformat_minor": 0,
  "metadata": {
    "colab": {
      "name": "TPC_2.ipynb",
      "version": "0.3.2",
      "provenance": [],
      "collapsed_sections": [],
      "include_colab_link": true
    },
    "kernelspec": {
      "display_name": "Python 3",
      "language": "python",
      "name": "python3"
    }
  },
  "cells": [
    {
      "cell_type": "markdown",
      "metadata": {
        "id": "view-in-github",
        "colab_type": "text"
      },
      "source": [
        "<a href=\"https://colab.research.google.com/github/nunosilvaEI/SAD_NunoSilva/blob/master/TPC_2.ipynb\" target=\"_parent\"><img src=\"https://colab.research.google.com/assets/colab-badge.svg\" alt=\"Open In Colab\"/></a>"
      ]
    },
    {
      "metadata": {
        "id": "eAI1ypAl8gFg",
        "colab_type": "text"
      },
      "cell_type": "markdown",
      "source": [
        "# SAD - TPC 2\n",
        "\n",
        "### Dominar a linguagem Python 2\n",
        "\n",
        "----\n",
        "\n",
        "\n",
        "Uma cada carta é identificada pelo seu numero\n",
        "\n",
        "- 1,2,3,4,5,6,7,8,9,10,D,V,R (sendo os ultimos dama, valete e rei)\n",
        "\n",
        "e pelo seu naipe \n",
        "\n",
        "- copas(C); paus (P); Ouros (O); Espadas (E)\n",
        "\n",
        "Um exemplo de uma carta seria **E10** ou **PR**\n",
        "\n",
        "Considere um conjunto de N cartas definido numa lista A. \n",
        "\n",
        "Por exemplo, \n",
        "\n",
        "A = [P10, E9, C1]\n",
        "\n",
        "ou \n",
        "\n",
        "A = [\"1P\", \"1C\", \"1O\", \"2P\", \"2C\", \"2O\", \"2E\", \"3P\", \"3C\", \"3O\", \n",
        "     \"3E\", \"4P\", \"4C\", \"4O\", \"4E\", \"5P\", \"5C\", \"5O\", \"5E\", \"6P\", \"6C\", \"6O\", \n",
        "     \"6E\", \"7P\", \"7C\", \"7O\", \"7E\", \"8P\", \"8C\", \"8O\", \"8E\", \"9P\", \"9C\", \"9O\", \"9E\", \"DP\", \n",
        "     \"DC\", \"DO\", \"DE\", \"JP\", \"JC\", \"JO\", \"JE\", \"VP\", \"VC\", \"VO\", \"VE\", \"RP\", \"RC\", \"RO\", \"RE\", \n",
        "     \"1P\", \"1C\", \"1O\", \"1E\", \"2P\", \"2C\", \"2O\", \"2E\", \"3P\", \"3C\", \"3O\", \"3E\", \n",
        "     \"4P\", \"4C\", \"4O\", \"4E\", \"5P\", \"5C\", \"5O\", \"5E\", \"6P\", \"6C\", \"6O\", \"6E\", \"7P\", \"7C\", \n",
        "     \"7O\", \"7E\", \"8P\", \"8C\", \"8O\", \"8E\", \"9P\", \"9C\", \"9O\", \"9E\", \"DP\", \"DC\", \"DO\", \"DE\", \n",
        "     \"JP\", \"JC\", \"JO\", \"JE\", \"VP\", \"VC\", \"VO\", \"VE\", \"RP\", \"RC\", \"RO\", \"RE\", \"1P\", \"1C\", \n",
        "     \"1O\", \"1E\", \"2P\", \"2C\", \"2O\", \"2E\", \"3P\", \"3C\", \"3O\", \"3E\", \"4P\", \"4C\", \"4O\", \"4E\", \n",
        "     \"5P\", \"5C\", \"5O\", \"5E\", \"6P\", \"6C\", \"6O\", \"6E\", \"7P\", \"7C\", \"7O\", \"7E\", \"8P\", \"8C\", \n",
        "     \"8O\", \"8E\", \"9P\", \"9C\", \"9O\", \"9E\", \"DP\", \"DC\", \"DO\", \"DE\", \"JP\", \"JC\", \"JO\", \"JE\", \n",
        "     \"VP\", \"VC\", \"VO\", \"VE\", \"RP\", \"RC\", \"RO\", \"RE\"]\n",
        "\n",
        "\n",
        "ou \n",
        "\n",
        "\n",
        "\n",
        "\n",
        "Crie uma função que retorne o número de baralhos completos (com todas as cartas) existentes nessa lista."
      ]
    },
    {
      "metadata": {
        "id": "fQG-3vSs8gFl",
        "colab_type": "code",
        "colab": {
          "base_uri": "https://localhost:8080/",
          "height": 105
        },
        "outputId": "ea151cc2-84f4-4472-8ed6-ccccbf7871b7"
      },
      "cell_type": "code",
      "source": [
        "A = [\"1C\", \"1P\", \"1O\", \"1E\", \"2C\", \"2P\", \"2O\", \"2E\", \"3C\", \"3P\", \"3O\", \"3E\", \"4C\", \"4P\", \"4O\", \"4E\", \"5C\", \"5P\", \"5O\", \"5E\", \"6C\", \"6P\", \"6O\", \"6E\",\n",
        "                 \"7C\", \"7P\", \"7O\", \"7E\", \"8C\", \"8P\", \"8O\", \"8E\", \"9C\", \"9P\", \"9O\", \"9E\", \"10C\", \"10P\", \"10O\", \"10E\", \"DC\", \"DP\", \"DO\", \"DE\", \"VC\", \"VP\", \"VO\", \n",
        "                 \"VE\", \"RC\", \"RP\", \"RO\", \"RE\", \"1C\", \"1P\", \"1O\", \"1E\", \"2C\", \"2P\", \"2O\", \"2E\", \"3C\", \"3P\", \"3O\", \"3E\", \"4C\", \"4P\", \"4O\", \"4E\", \"5C\", \"5P\", \"5O\", \"5E\", \"6C\", \"6P\", \"6O\", \"6E\",\n",
        "                 \"7C\", \"7P\", \"7O\", \"7E\", \"8C\", \"8P\", \"8O\", \"8E\", \"9C\", \"9P\", \"9O\", \"9E\", \"10C\", \"10P\", \"10O\", \"10E\", \"DC\", \"DP\", \"DO\", \"DE\", \"VC\", \"VP\", \"VO\", \n",
        "                 \"VE\", \"RC\", \"RP\", \"RO\", \"RE\", \"1C\", \"1P\", \"1O\", \"1E\", \"2C\", \"2P\", \"2O\", \"2E\", \"3C\", \"3P\", \"3O\", \"3E\", \"4C\", \"4P\", \"4O\", \"4E\", \"5C\", \"5P\", \"5O\", \"5E\", \"6C\", \"6P\", \"6O\", \"6E\",\n",
        "                 \"7C\", \"7P\", \"7O\", \"7E\", \"8C\", \"8P\", \"8O\", \"8E\", \"9C\", \"9P\", \"9O\", \"9E\", \"10C\", \"10P\", \"10O\", \"10E\", \"DC\", \"DP\", \"DO\", \"DE\", \"VC\", \"VP\", \"VO\", \n",
        "                 \"VE\", \"RC\", \"RP\", \"RO\", \"RE\"]\n",
        "\n",
        "baralhoCompleto=[\"1C\", \"1P\", \"1O\", \"1E\", \"2C\", \"2P\", \"2O\", \"2E\", \"3C\", \"3P\", \"3O\", \"3E\", \"4C\", \"4P\", \"4O\", \"4E\", \"5C\", \"5P\", \"5O\", \"5E\", \"6C\", \"6P\", \"6O\", \"6E\",\n",
        "                 \"7C\", \"7P\", \"7O\", \"7E\", \"8C\", \"8P\", \"8O\", \"8E\", \"9C\", \"9P\", \"9O\", \"9E\", \"10C\", \"10P\", \"10O\", \"10E\", \"DC\", \"DP\", \"DO\", \"DE\", \"VC\", \"VP\", \"VO\", \n",
        "                 \"VE\", \"RC\", \"RP\", \"RO\", \"RE\"]\n",
        "\n",
        "def contagem():\n",
        "  numero_Baralhos = 0 #var que contabiliza o nº de baralhos\n",
        "  lista = [] #lista onde serao guardados os indices da lista que queremos verificar quantos baralhos tem\n",
        "\n",
        "  #Percorre a lista A e guarda o seu conteúdo na nova lista\n",
        "  for a in A:\n",
        "    lista.append(a)    \n",
        "    \n",
        "   \n",
        "    #Caso a lista seja equivalente à lista que tem o baralho completo, significa que encontrou um baralho completo\n",
        "    if baralhoCompleto == lista:\n",
        "      numero_Baralhos += 1\n",
        "      print(lista)\n",
        "      lista = []\n",
        "            \n",
        "  print(\"-> Numero de baralhos: \", + numero_Baralhos)\n",
        "  \n",
        "  #Caso não seja econtrado nenhum baralho\n",
        "  if numero_Baralhos == 0:\n",
        "    print(\"Não foi possível encontrar nenhum baralho completo\")   \n",
        "          \n",
        "contagem()"
      ],
      "execution_count": 15,
      "outputs": [
        {
          "output_type": "stream",
          "text": [
            "['1C', '1P', '1O', '1E', '2C', '2P', '2O', '2E', '3C', '3P', '3O', '3E', '4C', '4P', '4O', '4E', '5C', '5P', '5O', '5E', '6C', '6P', '6O', '6E', '7C', '7P', '7O', '7E', '8C', '8P', '8O', '8E', '9C', '9P', '9O', '9E', '10C', '10P', '10O', '10E', 'DC', 'DP', 'DO', 'DE', 'VC', 'VP', 'VO', 'VE', 'RC', 'RP', 'RO', 'RE']\n",
            "['1C', '1P', '1O', '1E', '2C', '2P', '2O', '2E', '3C', '3P', '3O', '3E', '4C', '4P', '4O', '4E', '5C', '5P', '5O', '5E', '6C', '6P', '6O', '6E', '7C', '7P', '7O', '7E', '8C', '8P', '8O', '8E', '9C', '9P', '9O', '9E', '10C', '10P', '10O', '10E', 'DC', 'DP', 'DO', 'DE', 'VC', 'VP', 'VO', 'VE', 'RC', 'RP', 'RO', 'RE']\n",
            "['1C', '1P', '1O', '1E', '2C', '2P', '2O', '2E', '3C', '3P', '3O', '3E', '4C', '4P', '4O', '4E', '5C', '5P', '5O', '5E', '6C', '6P', '6O', '6E', '7C', '7P', '7O', '7E', '8C', '8P', '8O', '8E', '9C', '9P', '9O', '9E', '10C', '10P', '10O', '10E', 'DC', 'DP', 'DO', 'DE', 'VC', 'VP', 'VO', 'VE', 'RC', 'RP', 'RO', 'RE']\n",
            "-> Numero de baralhos:  3\n"
          ],
          "name": "stdout"
        }
      ]
    }
  ]
}