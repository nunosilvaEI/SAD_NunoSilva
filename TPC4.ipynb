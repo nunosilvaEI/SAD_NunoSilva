{
  "nbformat": 4,
  "nbformat_minor": 0,
  "metadata": {
    "colab": {
      "name": "TPC4.ipynb",
      "version": "0.3.2",
      "provenance": [],
      "collapsed_sections": [],
      "include_colab_link": true
    },
    "kernelspec": {
      "name": "python3",
      "display_name": "Python 3"
    }
  },
  "cells": [
    {
      "cell_type": "markdown",
      "metadata": {
        "id": "view-in-github",
        "colab_type": "text"
      },
      "source": [
        "<a href=\"https://colab.research.google.com/github/nunosilvaEI/SAD_NunoSilva/blob/master/TPC4.ipynb\" target=\"_parent\"><img src=\"https://colab.research.google.com/assets/colab-badge.svg\" alt=\"Open In Colab\"/></a>"
      ]
    },
    {
      "metadata": {
        "id": "FfPmyNIAWQLE",
        "colab_type": "code",
        "outputId": "8816692b-f3ef-49d5-b3c1-b310507686c5",
        "colab": {
          "base_uri": "https://localhost:8080/",
          "height": 394
        }
      },
      "cell_type": "code",
      "source": [
        "# Import datasets, classifiers and performance metrics\n",
        "from sklearn import datasets, tree, model_selection\n",
        "from sklearn.ensemble import RandomForestClassifier\n",
        "from matplotlib.colors import ListedColormap\n",
        "from sklearn.metrics import accuracy_score # use 'accuracy_score' to calculate the accuracy of the predicted labels.\n",
        "import pandas as pd\n",
        "import numpy as np\n",
        "import matplotlib.pyplot as plt\n",
        "\n",
        "from sklearn.naive_bayes import GaussianNB\n",
        "gnb = GaussianNB()\n",
        "\n",
        "# The digits dataset\n",
        "digits = datasets.load_digits()\n",
        "\n",
        "\n",
        "#modelo  Decision Tree\n",
        "[features_train, features_test, classes_train, classes_test] = model_selection.train_test_split(digits.data, digits.target, test_size=0.30, random_state = 100) \n",
        "model = tree.DecisionTreeClassifier()\n",
        "\n",
        "clf = model.fit(features_train, classes_train)\n",
        "\n",
        "#prever as labels do test set\n",
        "prever = model.predict(features_test)\n",
        "\n",
        "\n",
        "score_train = model.score(features_train, classes_train)\n",
        "score_test = model.score(features_test, classes_test)\n",
        "\n",
        "#Extrair os dados\n",
        "MyShape = digits.data\n",
        "\n",
        "print('Shape: ',MyShape.shape )\n",
        "#print(MyShape[:4])\n",
        "\n",
        "print('\\n\\tDecision Tree')\n",
        "print('==============================')\n",
        "print(\"Features:\", digits.target_names)\n",
        "print(\"score_train:\", score_train)\n",
        "print(\"score_test:\", score_test)\n",
        "print('==============================')\n",
        "\n",
        "\n",
        "#modelo Random Forrest\n",
        "\n",
        "model = RandomForestClassifier(n_estimators=1000)\n",
        "\n",
        "clf = model.fit(features_train, classes_train)\n",
        "\n",
        "score_train = model.score(features_train, classes_train)\n",
        "score_test = model.score(features_test, classes_test)\n",
        "\n",
        "print('\\n\\tRandom Forrest')\n",
        "print('==============================')\n",
        "print(\"score_train:\", score_train)\n",
        "print(\"score_test:\", score_test)\n",
        "print('==============================')\n",
        "\n",
        "#Modelo Naive Bayes\n",
        "y_pred = gnb.fit(features_train, classes_train)\n",
        "\n",
        "score_train = gnb.score(features_train, classes_train)\n",
        "score_test = gnb.score(features_test, classes_test)\n",
        "\n",
        "print('\\n\\tNaive Bayes')\n",
        "print('==============================')\n",
        "print(\"score_train:\", score_train)\n",
        "print(\"score_test:\", score_test)\n",
        "print('==============================')\n",
        "\n",
        "#f test set de instâncias mal bem classificadas \n",
        "def classificar():\n",
        "  \n",
        "  valores = []\n",
        "  for i in digits.target:\n",
        "    if prever.all() != digits.target[i]: #comparar os valores das labels de previsão do test set, com o valores das features        \n",
        "      valores.append(i)\n",
        "      \n",
        "  #return valores\n",
        "  print('instâncias mal bem classificadas ',valores)\n",
        "    \n",
        "    \n",
        "classificar()\n",
        "    \n",
        "    "
      ],
      "execution_count": 7,
      "outputs": [
        {
          "output_type": "stream",
          "text": [
            "Shape:  (1797, 64)\n",
            "\n",
            "\tDecision Tree\n",
            "==============================\n",
            "Features: [0 1 2 3 4 5 6 7 8 9]\n",
            "score_train: 1.0\n",
            "score_test: 0.8666666666666667\n",
            "==============================\n",
            "\n",
            "\tRandom Forrest\n",
            "==============================\n",
            "score_train: 1.0\n",
            "score_test: 0.9666666666666667\n",
            "==============================\n",
            "\n",
            "\tNaive Bayes\n",
            "==============================\n",
            "score_train: 0.8591885441527446\n",
            "score_test: 0.8203703703703704\n",
            "==============================\n",
            "instâncias mal bem classificadas  [1, 2, 3, 4, 5, 6, 7, 8, 9, 1, 2, 3, 4, 5, 6, 7, 8, 9, 1, 2, 3, 4, 5, 6, 7, 8, 9, 9, 5, 5, 6, 5, 9, 8, 9, 8, 4, 1, 7, 7, 3, 5, 1, 2, 2, 7, 8, 2, 1, 2, 6, 3, 3, 7, 3, 3, 4, 6, 6, 6, 4, 9, 1, 5, 9, 5, 2, 8, 2, 1, 7, 6, 3, 2, 1, 7, 4, 6, 3, 1, 3, 9, 1, 7, 6, 8, 4, 3, 1, 4, 5, 3, 6, 9, 6, 1, 7, 5, 4, 4, 7, 2, 8, 2, 2, 5, 7, 9, 5, 4, 8, 8, 4, 9, 8, 9, 8, 1, 2, 3, 4, 5, 6, 7, 8, 9, 1, 2, 3, 4, 5, 6, 7, 8, 9, 1, 2, 3, 4, 5, 6, 7, 8, 9, 9, 5, 5, 6, 5, 9, 8, 9, 8, 4, 1, 7, 7, 3, 5, 1, 2, 2, 7, 8, 2, 1, 2, 6, 3, 3, 7, 3, 3, 4, 6, 6, 6, 4, 9, 1, 5, 9, 5, 2, 8, 2, 1, 7, 6, 3, 2, 1, 7, 3, 1, 3, 9, 1, 7, 6, 8, 4, 3, 1, 4, 5, 3, 6, 9, 6, 1, 7, 5, 4, 4, 7, 2, 8, 2, 2, 5, 5, 4, 8, 8, 4, 9, 8, 9, 8, 1, 2, 3, 4, 5, 6, 7, 8, 9, 1, 2, 3, 4, 5, 6, 7, 8, 9, 1, 2, 3, 4, 5, 6, 7, 8, 9, 9, 5, 5, 6, 5, 9, 8, 9, 8, 4, 1, 7, 7, 3, 5, 1, 2, 2, 7, 8, 2, 1, 2, 6, 3, 3, 7, 3, 3, 4, 6, 6, 6, 4, 9, 1, 5, 9, 5, 2, 8, 2, 1, 7, 6, 3, 2, 1, 7, 4, 6, 3, 1, 3, 9, 1, 7, 6, 8, 4, 3, 1, 4, 5, 3, 6, 9, 6, 1, 7, 5, 4, 4, 7, 2, 8, 2, 2, 5, 7, 9, 5, 4, 8, 8, 4, 9, 8, 9, 3, 1, 2, 3, 4, 5, 6, 7, 8, 9, 1, 2, 3, 4, 5, 6, 7, 8, 9, 1, 2, 3, 4, 5, 6, 7, 8, 9, 9, 5, 5, 6, 5, 9, 8, 9, 8, 4, 1, 7, 7, 3, 5, 1, 2, 2, 7, 8, 2, 1, 2, 6, 3, 3, 7, 3, 3, 4, 6, 6, 6, 4, 9, 1, 5, 9, 5, 2, 8, 2, 1, 7, 6, 3, 2, 1, 7, 4, 6, 3, 1, 3, 9, 1, 7, 6, 8, 4, 3, 1, 4, 5, 3, 6, 9, 6, 1, 7, 5, 4, 4, 7, 2, 8, 2, 2, 5, 7, 9, 5, 4, 8, 8, 4, 9, 8, 9, 8, 1, 2, 3, 4, 5, 6, 7, 8, 9, 1, 2, 3, 4, 5, 6, 7, 8, 9, 1, 2, 3, 4, 5, 6, 7, 8, 9, 9, 5, 5, 6, 5, 9, 8, 9, 8, 4, 1, 7, 7, 3, 5, 1, 2, 2, 7, 8, 2, 1, 2, 6, 3, 3, 7, 3, 3, 4, 6, 6, 6, 4, 9, 1, 5, 9, 5, 2, 8, 2, 1, 7, 6, 3, 2, 1, 7, 4, 6, 3, 1, 3, 9, 1, 7, 6, 8, 4, 3, 1, 4, 5, 3, 6, 9, 6, 1, 7, 5, 4, 4, 7, 2, 8, 2, 2, 5, 7, 9, 5, 4, 8, 8, 4, 9, 8, 9, 8, 1, 2, 3, 4, 5, 6, 7, 8, 9, 1, 2, 3, 4, 5, 6, 7, 8, 9, 1, 2, 3, 4, 5, 6, 7, 8, 9, 9, 5, 5, 6, 5, 9, 8, 9, 8, 4, 1, 7, 7, 3, 5, 1, 2, 2, 7, 8, 2, 1, 2, 6, 3, 3, 7, 3, 3, 4, 6, 6, 6, 4, 9, 1, 5, 9, 5, 2, 8, 2, 1, 7, 6, 3, 2, 1, 7, 4, 6, 3, 1, 3, 9, 1, 7, 6, 8, 4, 3, 1, 4, 5, 3, 6, 9, 6, 1, 7, 5, 4, 4, 7, 2, 8, 2, 2, 5, 7, 9, 5, 4, 8, 8, 4, 9, 8, 9, 8, 1, 2, 3, 4, 5, 6, 7, 8, 9, 1, 2, 3, 4, 5, 6, 7, 8, 9, 1, 2, 3, 4, 5, 6, 7, 8, 9, 9, 5, 5, 6, 5, 9, 8, 9, 8, 4, 1, 7, 7, 3, 5, 1, 2, 2, 7, 8, 2, 1, 2, 6, 3, 3, 7, 3, 3, 4, 6, 6, 6, 4, 9, 1, 5, 9, 5, 2, 8, 2, 1, 7, 6, 3, 2, 1, 7, 4, 6, 3, 1, 3, 9, 1, 7, 6, 8, 4, 3, 1, 4, 5, 3, 6, 9, 6, 1, 7, 5, 4, 4, 7, 2, 8, 2, 2, 5, 7, 9, 5, 4, 8, 8, 4, 9, 8, 9, 8, 1, 2, 3, 4, 5, 6, 7, 8, 9, 1, 2, 3, 4, 5, 6, 7, 8, 9, 1, 2, 3, 4, 5, 6, 7, 8, 9, 9, 5, 5, 6, 5, 9, 8, 9, 8, 4, 1, 7, 7, 3, 5, 1, 2, 7, 8, 2, 1, 2, 6, 3, 3, 7, 3, 3, 4, 6, 6, 6, 4, 9, 1, 5, 9, 5, 2, 8, 2, 1, 7, 6, 3, 2, 1, 4, 6, 3, 1, 3, 9, 1, 7, 6, 8, 4, 3, 1, 4, 5, 3, 6, 9, 6, 1, 7, 5, 4, 4, 7, 2, 8, 2, 2, 5, 7, 9, 5, 4, 4, 9, 8, 9, 8, 1, 2, 3, 4, 5, 6, 7, 8, 9, 1, 2, 3, 4, 5, 6, 7, 8, 9, 1, 2, 3, 4, 5, 6, 7, 8, 9, 9, 5, 5, 6, 5, 9, 8, 9, 8, 4, 1, 7, 7, 3, 5, 1, 7, 8, 2, 1, 2, 6, 3, 3, 7, 3, 3, 4, 6, 6, 6, 4, 9, 1, 5, 9, 5, 2, 8, 2, 1, 7, 6, 3, 2, 1, 7, 4, 6, 3, 1, 3, 9, 1, 7, 6, 8, 4, 3, 1, 4, 5, 3, 6, 9, 6, 1, 7, 5, 4, 4, 7, 2, 8, 2, 2, 5, 7, 9, 5, 4, 8, 8, 4, 9, 8, 9, 8, 1, 2, 3, 4, 5, 6, 7, 8, 9, 1, 2, 3, 4, 5, 6, 7, 8, 9, 1, 2, 3, 4, 5, 6, 7, 8, 9, 9, 5, 5, 6, 5, 9, 8, 9, 8, 4, 1, 7, 7, 3, 5, 1, 2, 2, 7, 8, 2, 1, 2, 6, 3, 3, 7, 3, 3, 4, 6, 6, 6, 4, 9, 1, 5, 9, 5, 2, 8, 2, 1, 7, 6, 3, 2, 1, 7, 4, 6, 3, 1, 3, 9, 1, 7, 6, 8, 4, 3, 1, 4, 5, 3, 6, 9, 6, 1, 7, 5, 4, 4, 7, 2, 8, 2, 2, 5, 7, 9, 5, 4, 8, 8, 4, 9, 8, 9, 8, 1, 2, 3, 4, 5, 6, 7, 8, 9, 1, 2, 3, 4, 5, 6, 7, 8, 9, 1, 2, 3, 4, 5, 6, 7, 8, 9, 9, 5, 5, 6, 5, 9, 8, 9, 8, 4, 1, 7, 7, 3, 5, 1, 2, 2, 7, 8, 2, 1, 2, 6, 3, 3, 7, 3, 3, 4, 6, 6, 6, 4, 9, 1, 5, 9, 5, 2, 8, 2, 1, 7, 6, 3, 2, 1, 7, 4, 6, 3, 1, 3, 9, 1, 7, 6, 8, 4, 3, 1, 4, 5, 3, 6, 9, 6, 1, 7, 5, 4, 4, 7, 2, 8, 2, 2, 5, 7, 9, 5, 4, 8, 8, 4, 9, 8, 1, 2, 3, 4, 5, 6, 7, 8, 9, 1, 2, 3, 4, 5, 6, 7, 8, 9, 1, 2, 3, 4, 5, 6, 7, 8, 9, 9, 5, 5, 6, 5, 9, 8, 9, 8, 4, 1, 7, 7, 3, 5, 1, 2, 2, 7, 8, 2, 1, 2, 6, 3, 3, 7, 3, 3, 4, 6, 6, 6, 4, 9, 1, 5, 9, 5, 2, 8, 2, 1, 7, 6, 3, 2, 1, 7, 4, 6, 3, 1, 3, 9, 1, 7, 6, 8, 4, 3, 1, 4, 5, 3, 6, 9, 6, 1, 7, 5, 4, 4, 7, 2, 8, 2, 2, 5, 7, 9, 5, 4, 8, 8, 4, 9, 8, 9, 8, 1, 2, 3, 4, 5, 6, 7, 8, 9, 1, 2, 3, 4, 5, 6, 9, 1, 2, 3, 4, 5, 6, 7, 8, 9, 9, 5, 5, 6, 5, 9, 8, 9, 8, 4, 1, 7, 7, 3, 5, 1, 2, 2, 7, 8, 2, 1, 2, 6, 3, 3, 7, 3, 3, 4, 6, 6, 6, 4, 9, 1, 5, 9, 5, 2, 8, 1, 7, 6, 3, 2, 1, 7, 4, 6, 3, 1, 3, 9, 1, 7, 6, 8, 4, 3, 1, 4, 5, 3, 6, 9, 6, 1, 7, 5, 4, 4, 7, 2, 2, 5, 7, 9, 5, 4, 4, 9, 8, 9, 8, 1, 2, 3, 4, 5, 6, 7, 8, 9, 1, 2, 3, 4, 5, 6, 7, 8, 9, 1, 2, 3, 4, 5, 6, 7, 8, 9, 9, 5, 5, 6, 5, 9, 8, 9, 8, 4, 1, 7, 7, 3, 5, 1, 2, 2, 7, 8, 2, 1, 2, 6, 3, 3, 7, 3, 3, 4, 6, 6, 6, 4, 9, 1, 5, 9, 5, 2, 8, 2, 1, 7, 6, 3, 2, 1, 7, 4, 6, 3, 1, 3, 9, 1, 7, 6, 8, 4, 3, 1, 4, 5, 3, 6, 9, 6, 1, 7, 5, 4, 4, 7, 2, 8, 2, 2, 5, 7, 9, 5, 4, 8, 8, 4, 9, 8, 9, 8]\n"
          ],
          "name": "stdout"
        }
      ]
    }
  ]
}